{
 "cells": [
  {
   "cell_type": "markdown",
   "id": "556d7877",
   "metadata": {},
   "source": [
    "# lists"
   ]
  },
  {
   "cell_type": "code",
   "execution_count": 4,
   "id": "21d376ae",
   "metadata": {},
   "outputs": [
    {
     "name": "stdout",
     "output_type": "stream",
     "text": [
      "[94.1, 87.5, 90.4, 67.2, 80.5]\n",
      "<class 'list'>\n",
      "87.5\n",
      "5\n"
     ]
    }
   ],
   "source": [
    "# a built in data type that stores set of values\n",
    "\n",
    "f=[94.1,87.5,90.4,67.2,80.5]\n",
    "print(f)\n",
    "print(type(f))\n",
    "# iddex\n",
    "print(f[1])\n",
    "# length\n",
    "print(len(f))"
   ]
  },
  {
   "cell_type": "code",
   "execution_count": 8,
   "id": "436b67e7",
   "metadata": {},
   "outputs": [
    {
     "name": "stdout",
     "output_type": "stream",
     "text": [
      "karan\n",
      "['nandu', 95.4, 'Delhi']\n"
     ]
    }
   ],
   "source": [
    "stud = [\"karan\",95.4,12,\"Delhi\"]\n",
    "print(stud[0])# list are mutable\n",
    "stud[0]=\"nandu\"\n",
    "print(stud)\n"
   ]
  },
  {
   "cell_type": "code",
   "execution_count": 6,
   "id": "093c02fb",
   "metadata": {},
   "outputs": [
    {
     "name": "stdout",
     "output_type": "stream",
     "text": [
      "hello\n"
     ]
    }
   ],
   "source": [
    "str = \"hello\"\n",
    "print(str)"
   ]
  },
  {
   "cell_type": "code",
   "execution_count": 10,
   "id": "d4d1c39f",
   "metadata": {},
   "outputs": [
    {
     "name": "stdout",
     "output_type": "stream",
     "text": [
      "[2, 3, 4, 5]\n"
     ]
    }
   ],
   "source": [
    "# list slicing\n",
    "a  =[2,3,4,5,6,7,8]\n",
    "print(a[:4])"
   ]
  },
  {
   "cell_type": "code",
   "execution_count": 12,
   "id": "8712e2e3",
   "metadata": {},
   "outputs": [
    {
     "name": "stdout",
     "output_type": "stream",
     "text": [
      "[2, 1, 3, 4]\n"
     ]
    }
   ],
   "source": [
    "# list method\n",
    "l = [2,1,3]\n",
    "l.append(4)\n",
    "print(l)"
   ]
  },
  {
   "cell_type": "code",
   "execution_count": 15,
   "id": "7c2213b9",
   "metadata": {},
   "outputs": [
    {
     "name": "stdout",
     "output_type": "stream",
     "text": [
      "[1, 2, 3, 4, 5, 7]\n",
      "None\n"
     ]
    }
   ],
   "source": [
    "# list sort\n",
    "a = [2,4,1,3,7,5]\n",
    "a.sort()\n",
    "print(a)\n",
    "print(a.sort(reverse=True))"
   ]
  },
  {
   "cell_type": "code",
   "execution_count": 14,
   "id": "77586c54",
   "metadata": {},
   "outputs": [
    {
     "name": "stdout",
     "output_type": "stream",
     "text": [
      "[7, 6, 5, 4, 3, 2]\n"
     ]
    }
   ],
   "source": [
    "# list reversed\n",
    "a =[2,3,4,5,6,7]\n",
    "a.reverse()\n",
    "print(a)"
   ]
  },
  {
   "cell_type": "code",
   "execution_count": 16,
   "id": "c8fc4d05",
   "metadata": {},
   "outputs": [
    {
     "name": "stdout",
     "output_type": "stream",
     "text": [
      "[1, 7, 2, 3, 4, 5]\n"
     ]
    }
   ],
   "source": [
    "# list insert\n",
    "a=[1,2,3,4,5]\n",
    "a.insert(1,7)\n",
    "print(a)"
   ]
  },
  {
   "cell_type": "code",
   "execution_count": 17,
   "id": "c0b2edd1",
   "metadata": {},
   "outputs": [
    {
     "name": "stdout",
     "output_type": "stream",
     "text": [
      "[1, 3, 4]\n"
     ]
    }
   ],
   "source": [
    "# list remive\n",
    "l = [1,2,3,4]\n",
    "l.remove(2)\n",
    "print(l)"
   ]
  },
  {
   "cell_type": "code",
   "execution_count": 18,
   "id": "64989088",
   "metadata": {},
   "outputs": [
    {
     "name": "stdout",
     "output_type": "stream",
     "text": [
      "[1, 2, 4, 5]\n"
     ]
    }
   ],
   "source": [
    "# list pop\n",
    "l=[1,2,3,4,5]\n",
    "l.pop(2)\n",
    "print(l)"
   ]
  },
  {
   "cell_type": "markdown",
   "id": "5e53eb2f",
   "metadata": {},
   "source": [
    "# tuple in python"
   ]
  },
  {
   "cell_type": "code",
   "execution_count": 3,
   "id": "cc5efcc2",
   "metadata": {},
   "outputs": [
    {
     "name": "stdout",
     "output_type": "stream",
     "text": [
      "<class 'tuple'> (1, 2, 3, 4)\n",
      "1\n",
      "4\n"
     ]
    }
   ],
   "source": [
    "# a built in data type that lets us create immutable sequence of values..\n",
    "# justs like a string\n",
    "l= (1,2,3,4)\n",
    "print(type(l),l)\n",
    "print(l[0])\n",
    "print(l[3])\n"
   ]
  },
  {
   "cell_type": "code",
   "execution_count": 5,
   "id": "6d399ccc",
   "metadata": {},
   "outputs": [
    {
     "name": "stdout",
     "output_type": "stream",
     "text": [
      "()\n",
      "<class 'tuple'>\n"
     ]
    }
   ],
   "source": [
    "t =()\n",
    "print(t)\n",
    "print(type(t))"
   ]
  },
  {
   "cell_type": "code",
   "execution_count": 7,
   "id": "76b60bd9",
   "metadata": {},
   "outputs": [
    {
     "name": "stdout",
     "output_type": "stream",
     "text": [
      "<class 'tuple'>\n"
     ]
    }
   ],
   "source": [
    "t=(1)\n",
    "print(type(t))"
   ]
  },
  {
   "cell_type": "code",
   "execution_count": 8,
   "id": "fb9f950e",
   "metadata": {},
   "outputs": [
    {
     "name": "stdout",
     "output_type": "stream",
     "text": [
      "(2, 3)\n"
     ]
    }
   ],
   "source": [
    "s=(1,2,3,4,5)\n",
    "print(s[1:3])"
   ]
  },
  {
   "cell_type": "markdown",
   "id": "ed9ff73f",
   "metadata": {},
   "source": [
    "# Methods"
   ]
  },
  {
   "cell_type": "code",
   "execution_count": 10,
   "id": "442bee81",
   "metadata": {},
   "outputs": [
    {
     "name": "stdout",
     "output_type": "stream",
     "text": [
      "1\n",
      "2\n"
     ]
    }
   ],
   "source": [
    "x=(1,2,3,4,2)\n",
    "print(x.index(2))\n",
    "print(x.count(2))"
   ]
  },
  {
   "cell_type": "code",
   "execution_count": 12,
   "id": "01e90a96",
   "metadata": {},
   "outputs": [
    {
     "name": "stdout",
     "output_type": "stream",
     "text": [
      "enter Ist movie:aayu\n",
      "enter 2nd movie:nandu\n",
      "enter 3rd movie :pops\n",
      "['aayu', 'nandu', 'pops']\n"
     ]
    }
   ],
   "source": [
    "# WAP to ask the user to enter names of their 3 favorite movies and store them in a list.\n",
    "\n",
    "movie=[]\n",
    "x=input(\"enter Ist movie:\")\n",
    "y=input(\"enter 2nd movie:\")\n",
    "z=input(\"enter 3rd movie :\")\n",
    "movie.append(x)\n",
    "movie.append(y)\n",
    "movie.append(z)\n",
    "\n",
    "print(movie)"
   ]
  },
  {
   "cell_type": "code",
   "execution_count": 13,
   "id": "c494d782",
   "metadata": {
    "scrolled": true
   },
   "outputs": [
    {
     "name": "stdout",
     "output_type": "stream",
     "text": [
      "enter name:aayu\n",
      "enter name:nandu\n",
      "['aayu', 'nandu']\n"
     ]
    }
   ],
   "source": [
    "# or diff way\n",
    "m=[]\n",
    "mov = input(\"enter name:\")\n",
    "m.append(mov)\n",
    "mov=input(\"enter name:\")\n",
    "m.append(mov)\n",
    "print(m)"
   ]
  },
  {
   "cell_type": "code",
   "execution_count": 16,
   "id": "7e8ac787",
   "metadata": {},
   "outputs": [
    {
     "name": "stdout",
     "output_type": "stream",
     "text": [
      "palindrome\n"
     ]
    }
   ],
   "source": [
    "# WAP to check if a list contain a palindrome of elements.(hint:use copy(method))\n",
    "# l =[1,2,1]\n",
    "l=[\"m\",\"a\",\"m\"]\n",
    "x=[1,2,3]\n",
    "c = l.copy()\n",
    "c.reverse()\n",
    "\n",
    "if(c==l):\n",
    "    print(\"palindrome\")\n",
    "else:\n",
    "    print(\"not\")"
   ]
  },
  {
   "cell_type": "code",
   "execution_count": 19,
   "id": "b69eaf4e",
   "metadata": {},
   "outputs": [
    {
     "name": "stdout",
     "output_type": "stream",
     "text": [
      "3\n"
     ]
    }
   ],
   "source": [
    "# wap to count the number of student with the \"A\" grade in the following tuple\n",
    "a=[\"c\",\"D\",\"A\",\"A\",\"B\",\"B\",\"A\"]\n",
    "\n",
    "print(a.count(\"A\"))"
   ]
  },
  {
   "cell_type": "code",
   "execution_count": 22,
   "id": "4931c25a",
   "metadata": {},
   "outputs": [
    {
     "name": "stdout",
     "output_type": "stream",
     "text": [
      "['A', 'A', 'A', 'B', 'B', 'C', 'D']\n"
     ]
    }
   ],
   "source": [
    "# WAP to store the above values in a list and sort them from \"A\" to \"D\"\n",
    "a=[\"C\",\"D\",\"A\",\"A\",\"B\",\"B\",\"A\"]\n",
    "a.sort()\n",
    "print(a)"
   ]
  },
  {
   "cell_type": "code",
   "execution_count": null,
   "id": "be5e63dc",
   "metadata": {},
   "outputs": [],
   "source": []
  }
 ],
 "metadata": {
  "kernelspec": {
   "display_name": "Python 3 (ipykernel)",
   "language": "python",
   "name": "python3"
  },
  "language_info": {
   "codemirror_mode": {
    "name": "ipython",
    "version": 3
   },
   "file_extension": ".py",
   "mimetype": "text/x-python",
   "name": "python",
   "nbconvert_exporter": "python",
   "pygments_lexer": "ipython3",
   "version": "3.11.5"
  }
 },
 "nbformat": 4,
 "nbformat_minor": 5
}
